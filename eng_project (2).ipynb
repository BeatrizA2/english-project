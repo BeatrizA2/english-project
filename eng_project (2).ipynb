{
  "nbformat": 4,
  "nbformat_minor": 0,
  "metadata": {
    "colab": {
      "provenance": []
    },
    "kernelspec": {
      "name": "python3",
      "display_name": "Python 3"
    },
    "language_info": {
      "name": "python"
    }
  },
  "cells": [
    {
      "cell_type": "code",
      "execution_count": null,
      "metadata": {
        "id": "tplhz-CROzrg"
      },
      "outputs": [],
      "source": [
        "#hide\n",
        "! [ -e /content ] && pip install -Uqq fastbook\n",
        "import fastbook\n",
        "fastbook.setup_book()"
      ]
    },
    {
      "cell_type": "code",
      "source": [
        "#hide\n",
        "from fastbook import *\n",
        "from fastai.vision.widgets import *\n",
        "from fastai.vision.all import *"
      ],
      "metadata": {
        "id": "lnEiODsZO1zt"
      },
      "execution_count": null,
      "outputs": []
    },
    {
      "cell_type": "markdown",
      "source": [
        "#Loading the model from the export.pkl file"
      ],
      "metadata": {
        "id": "AggHhc3xO6M3"
      }
    },
    {
      "cell_type": "code",
      "source": [
        "path = Path()\n",
        "learn = load_learner(path/'export.pkl')\n",
        "\n",
        "#creating the variables used in the deployment\n",
        "\n",
        "button = widgets.FileUpload()\n",
        "output = widgets.Output()\n",
        "label = widgets.Label()"
      ],
      "metadata": {
        "id": "DS-glNZTPDgD"
      },
      "execution_count": null,
      "outputs": []
    },
    {
      "cell_type": "markdown",
      "source": [
        "#Creating the model's interface"
      ],
      "metadata": {
        "id": "8pTWJr9UPJXV"
      }
    },
    {
      "cell_type": "code",
      "source": [
        "#function that makes the model predict the type of cheese of the image input\n",
        "\n",
        "def predicting(img_input):\n",
        "  \n",
        "  #upload the image through the button and displays it\n",
        "  image = PILImage.create(button.data[-1])\n",
        "  output.clear_output()\n",
        "  with output:\n",
        "    display(image.to_thumb(300, 300))\n",
        "\n",
        "  #make the model classify the image\n",
        "  label_pred, index_pred, prob = learn.predict(image)\n",
        "  \n",
        "  label.value = f\"The model's guess with  {prob[index_pred]:.02f} of confidence is: {label_pred}\"\n"
      ],
      "metadata": {
        "id": "blZCOJCmPO9q"
      },
      "execution_count": null,
      "outputs": []
    },
    {
      "cell_type": "code",
      "source": [
        "#creates a new button to reset the counter in the button\n",
        "if(button._counter != 0 ):\n",
        "  button = widgets.FileUpload()\n",
        "\n",
        "button.observe(predicting, names=['data'])\n",
        "\n",
        "\n",
        "display(VBox([widgets.Label(\"Select your cheese!!!\"), button, output, label]))"
      ],
      "metadata": {
        "id": "kbP_mmLYPWg4"
      },
      "execution_count": null,
      "outputs": []
    }
  ]
}